{
 "cells": [
  {
   "cell_type": "markdown",
   "metadata": {},
   "source": [
    "[Project Euler 107 Problem](https://projecteuler.net/problem=107)"
   ]
  },
  {
   "cell_type": "markdown",
   "metadata": {},
   "source": [
    "## Plan"
   ]
  },
  {
   "cell_type": "markdown",
   "metadata": {},
   "source": [
    "1. Load data\n",
    "2. Implement Kruskal algorithm"
   ]
  },
  {
   "cell_type": "code",
   "execution_count": 1,
   "metadata": {
    "collapsed": true
   },
   "outputs": [],
   "source": [
    "import urllib2"
   ]
  },
  {
   "cell_type": "code",
   "execution_count": 2,
   "metadata": {
    "collapsed": true
   },
   "outputs": [],
   "source": [
    "data = urllib2.urlopen('https://projecteuler.net/project/resources/p107_network.txt')\n",
    "data = data.readlines()"
   ]
  },
  {
   "cell_type": "code",
   "execution_count": 5,
   "metadata": {
    "collapsed": false
   },
   "outputs": [],
   "source": [
    "def int_with_absense(value) :\n",
    "    if value == '-' :\n",
    "        return None\n",
    "    else :\n",
    "        return int(value)\n",
    "data = [map(int_with_absense, line.strip().split(',')) for line in data]"
   ]
  },
  {
   "cell_type": "code",
   "execution_count": 45,
   "metadata": {
    "collapsed": false
   },
   "outputs": [
    {
     "data": {
      "text/plain": [
       "(513, 261832)"
      ]
     },
     "execution_count": 45,
     "metadata": {},
     "output_type": "execute_result"
    }
   ],
   "source": [
    "edges = []\n",
    "sum_weight = 0\n",
    "for i in range(len(data)) :\n",
    "    for j in range(i + 1, len(data[0])) :\n",
    "        if data[i][j] != None :\n",
    "            sum_weight += data[i][j]\n",
    "            edges.append((data[i][j], i, j))\n",
    "len(edges), sum_weight"
   ]
  },
  {
   "cell_type": "code",
   "execution_count": 46,
   "metadata": {
    "collapsed": true
   },
   "outputs": [],
   "source": [
    "edges.sort()"
   ]
  },
  {
   "cell_type": "code",
   "execution_count": 47,
   "metadata": {
    "collapsed": false
   },
   "outputs": [
    {
     "name": "stdout",
     "output_type": "stream",
     "text": [
      "0\n",
      "+ :  [21] [36] (1, 21, 36)\n",
      "1\n",
      "+ :  [27] [34] (6, 27, 34)\n",
      "2\n",
      "+ :  [10] [33] (7, 10, 33)\n",
      "3\n",
      "+ :  [28] [27, 34] (9, 28, 34)\n",
      "4\n",
      "+ :  [13] [39] (17, 13, 39)\n",
      "5\n",
      "+ :  [4] [35] (19, 4, 35)\n",
      "6\n",
      "+ :  [9] [29] (25, 9, 29)\n",
      "7\n",
      "+ :  [5] [25] (27, 5, 25)\n",
      "8\n",
      "+ :  [20] [27, 28, 34] (27, 20, 28)\n",
      "9\n",
      "+ :  [3] [9, 29] (32, 3, 9)\n",
      "10\n",
      "+ :  [5, 25] [20, 27, 28, 34] (33, 5, 34)\n",
      "11\n",
      "+ :  [7] [3, 9, 29] (35, 7, 9)\n",
      "12\n",
      "+ :  [8] [15] (36, 8, 15)\n",
      "13\n",
      "+ :  [3, 7, 9, 29] [13, 39] (36, 9, 13)\n",
      "14\n",
      "+ :  [3, 7, 9, 13, 29, 39] [37] (36, 29, 37)\n",
      "15\n",
      "+ :  [11] [17] (41, 11, 17)\n",
      "16\n",
      "+ :  [6] [10, 33] (42, 6, 10)\n",
      "17\n",
      "+ :  [2] [3, 7, 9, 13, 29, 37, 39] (47, 2, 9)\n",
      "18\n",
      "+ :  [5, 20, 25, 27, 28, 34] [2, 3, 7, 9, 13, 29, 37, 39] (48, 28, 37)\n",
      "19\n",
      "+ :  [2, 3, 5, 7, 9, 13, 20, 25, 27, 28, 29, 34, 37, 39] [6, 10, 33] (50, 9, 10)\n",
      "20\n",
      "+ :  [8, 15] [24] (53, 8, 24)\n",
      "21\n",
      "+ :  [2, 3, 5, 6, 7, 9, 10, 13, 20, 25, 27, 28, 29, 33, 34, 37, 39] [19] (53, 10, 19)\n",
      "22\n",
      "+ :  [2, 3, 5, 6, 7, 9, 10, 13, 19, 20, 25, 27, 28, 29, 33, 34, 37, 39] [21, 36] (54, 5, 36)\n",
      "23\n",
      "+ :  [0] [31] (56, 0, 31)\n",
      "24\n",
      "+ :  [2, 3, 5, 6, 7, 9, 10, 13, 19, 20, 21, 25, 27, 28, 29, 33, 34, 36, 37, 39] [23] (66, 5, 23)\n",
      "25\n",
      "+ :  [12] [2, 3, 5, 6, 7, 9, 10, 13, 19, 20, 21, 23, 25, 27, 28, 29, 33, 34, 36, 37, 39] (68, 12, 29)\n",
      "26\n",
      "+ :  [8, 15, 24] [0, 31] (68, 15, 31)\n",
      "27\n",
      "+ :  [16] [18] (73, 16, 18)\n",
      "28\n",
      "+ :  [2, 3, 5, 6, 7, 9, 10, 12, 13, 19, 20, 21, 23, 25, 27, 28, 29, 33, 34, 36, 37, 39] [38] (76, 3, 38)\n",
      "29\n",
      "- :  [2, 3, 5, 6, 7, 9, 10, 12, 13, 19, 20, 21, 23, 25, 27, 28, 29, 33, 34, 36, 37, 38, 39] [2, 3, 5, 6, 7, 9, 10, 12, 13, 19, 20, 21, 23, 25, 27, 28, 29, 33, 34, 36, 37, 38, 39] (79, 7, 23)\n",
      "30\n",
      "+ :  [2, 3, 5, 6, 7, 9, 10, 12, 13, 19, 20, 21, 23, 25, 27, 28, 29, 33, 34, 36, 37, 38, 39] [30] (80, 20, 30)\n",
      "31\n",
      "- :  [2, 3, 5, 6, 7, 9, 10, 12, 13, 19, 20, 21, 23, 25, 27, 28, 29, 30, 33, 34, 36, 37, 38, 39] [2, 3, 5, 6, 7, 9, 10, 12, 13, 19, 20, 21, 23, 25, 27, 28, 29, 30, 33, 34, 36, 37, 38, 39] (81, 2, 12)\n",
      "32\n",
      "+ :  [22] [2, 3, 5, 6, 7, 9, 10, 12, 13, 19, 20, 21, 23, 25, 27, 28, 29, 30, 33, 34, 36, 37, 38, 39] (83, 22, 28)\n",
      "33\n",
      "+ :  [14] [26] (89, 14, 26)\n",
      "34\n",
      "+ :  [4, 35] [2, 3, 5, 6, 7, 9, 10, 12, 13, 19, 20, 21, 22, 23, 25, 27, 28, 29, 30, 33, 34, 36, 37, 38, 39] (91, 35, 36)\n",
      "35\n",
      "+ :  [1] [2, 3, 4, 5, 6, 7, 9, 10, 12, 13, 19, 20, 21, 22, 23, 25, 27, 28, 29, 30, 33, 34, 35, 36, 37, 38, 39] (102, 1, 37)\n",
      "36\n",
      "+ :  [14, 26] [32] (102, 26, 32)\n",
      "37\n",
      "- :  [1, 2, 3, 4, 5, 6, 7, 9, 10, 12, 13, 19, 20, 21, 22, 23, 25, 27, 28, 29, 30, 33, 34, 35, 36, 37, 38, 39] [1, 2, 3, 4, 5, 6, 7, 9, 10, 12, 13, 19, 20, 21, 22, 23, 25, 27, 28, 29, 30, 33, 34, 35, 36, 37, 38, 39] (103, 9, 21)\n",
      "38\n",
      "+ :  [11, 17] [1, 2, 3, 4, 5, 6, 7, 9, 10, 12, 13, 19, 20, 21, 22, 23, 25, 27, 28, 29, 30, 33, 34, 35, 36, 37, 38, 39] (104, 11, 21)\n",
      "39\n",
      "- :  [1, 2, 3, 4, 5, 6, 7, 9, 10, 11, 12, 13, 17, 19, 20, 21, 22, 23, 25, 27, 28, 29, 30, 33, 34, 35, 36, 37, 38, 39] [1, 2, 3, 4, 5, 6, 7, 9, 10, 11, 12, 13, 17, 19, 20, 21, 22, 23, 25, 27, 28, 29, 30, 33, 34, 35, 36, 37, 38, 39] (106, 7, 11)\n",
      "40\n",
      "+ :  [1, 2, 3, 4, 5, 6, 7, 9, 10, 11, 12, 13, 17, 19, 20, 21, 22, 23, 25, 27, 28, 29, 30, 33, 34, 35, 36, 37, 38, 39] [14, 26, 32] (108, 2, 26)\n",
      "41\n",
      "- :  [1, 2, 3, 4, 5, 6, 7, 9, 10, 11, 12, 13, 14, 17, 19, 20, 21, 22, 23, 25, 26, 27, 28, 29, 30, 32, 33, 34, 35, 36, 37, 38, 39] [1, 2, 3, 4, 5, 6, 7, 9, 10, 11, 12, 13, 14, 17, 19, 20, 21, 22, 23, 25, 26, 27, 28, 29, 30, 32, 33, 34, 35, 36, 37, 38, 39] (109, 23, 38)\n",
      "42\n",
      "- :  [1, 2, 3, 4, 5, 6, 7, 9, 10, 11, 12, 13, 14, 17, 19, 20, 21, 22, 23, 25, 26, 27, 28, 29, 30, 32, 33, 34, 35, 36, 37, 38, 39] [1, 2, 3, 4, 5, 6, 7, 9, 10, 11, 12, 13, 14, 17, 19, 20, 21, 22, 23, 25, 26, 27, 28, 29, 30, 32, 33, 34, 35, 36, 37, 38, 39] (112, 14, 30)\n",
      "43\n",
      "- :  [1, 2, 3, 4, 5, 6, 7, 9, 10, 11, 12, 13, 14, 17, 19, 20, 21, 22, 23, 25, 26, 27, 28, 29, 30, 32, 33, 34, 35, 36, 37, 38, 39] [1, 2, 3, 4, 5, 6, 7, 9, 10, 11, 12, 13, 14, 17, 19, 20, 21, 22, 23, 25, 26, 27, 28, 29, 30, 32, 33, 34, 35, 36, 37, 38, 39] (112, 34, 39)\n",
      "44\n",
      "- :  [1, 2, 3, 4, 5, 6, 7, 9, 10, 11, 12, 13, 14, 17, 19, 20, 21, 22, 23, 25, 26, 27, 28, 29, 30, 32, 33, 34, 35, 36, 37, 38, 39] [1, 2, 3, 4, 5, 6, 7, 9, 10, 11, 12, 13, 14, 17, 19, 20, 21, 22, 23, 25, 26, 27, 28, 29, 30, 32, 33, 34, 35, 36, 37, 38, 39] (116, 27, 36)\n",
      "45\n",
      "- :  [1, 2, 3, 4, 5, 6, 7, 9, 10, 11, 12, 13, 14, 17, 19, 20, 21, 22, 23, 25, 26, 27, 28, 29, 30, 32, 33, 34, 35, 36, 37, 38, 39] [1, 2, 3, 4, 5, 6, 7, 9, 10, 11, 12, 13, 14, 17, 19, 20, 21, 22, 23, 25, 26, 27, 28, 29, 30, 32, 33, 34, 35, 36, 37, 38, 39] (117, 20, 38)\n",
      "46\n",
      "- :  [1, 2, 3, 4, 5, 6, 7, 9, 10, 11, 12, 13, 14, 17, 19, 20, 21, 22, 23, 25, 26, 27, 28, 29, 30, 32, 33, 34, 35, 36, 37, 38, 39] [1, 2, 3, 4, 5, 6, 7, 9, 10, 11, 12, 13, 14, 17, 19, 20, 21, 22, 23, 25, 26, 27, 28, 29, 30, 32, 33, 34, 35, 36, 37, 38, 39] (120, 6, 9)\n",
      "47\n",
      "- :  [1, 2, 3, 4, 5, 6, 7, 9, 10, 11, 12, 13, 14, 17, 19, 20, 21, 22, 23, 25, 26, 27, 28, 29, 30, 32, 33, 34, 35, 36, 37, 38, 39] [1, 2, 3, 4, 5, 6, 7, 9, 10, 11, 12, 13, 14, 17, 19, 20, 21, 22, 23, 25, 26, 27, 28, 29, 30, 32, 33, 34, 35, 36, 37, 38, 39] (120, 6, 28)\n",
      "48\n",
      "+ :  [1, 2, 3, 4, 5, 6, 7, 9, 10, 11, 12, 13, 14, 17, 19, 20, 21, 22, 23, 25, 26, 27, 28, 29, 30, 32, 33, 34, 35, 36, 37, 38, 39] [16, 18] (122, 1, 16)\n",
      "49\n",
      "- :  [1, 2, 3, 4, 5, 6, 7, 9, 10, 11, 12, 13, 14, 16, 17, 18, 19, 20, 21, 22, 23, 25, 26, 27, 28, 29, 30, 32, 33, 34, 35, 36, 37, 38, 39] [1, 2, 3, 4, 5, 6, 7, 9, 10, 11, 12, 13, 14, 16, 17, 18, 19, 20, 21, 22, 23, 25, 26, 27, 28, 29, 30, 32, 33, 34, 35, 36, 37, 38, 39] (128, 13, 25)\n",
      "50\n",
      "+ :  [0, 8, 15, 24, 31] [1, 2, 3, 4, 5, 6, 7, 9, 10, 11, 12, 13, 14, 16, 17, 18, 19, 20, 21, 22, 23, 25, 26, 27, 28, 29, 30, 32, 33, 34, 35, 36, 37, 38, 39] (131, 0, 18)\n",
      "2153 259679\n"
     ]
    }
   ],
   "source": [
    "vertices_n = 40\n",
    "\n",
    "components = [[i] for i in range(vertices_n)]\n",
    "\n",
    "def update_components(components, new_edge) :\n",
    "    _, first, second = new_edge\n",
    "    \n",
    "    first_component_index = None\n",
    "    second_component_index = None\n",
    "    \n",
    "    for index, vertices in enumerate(components) :\n",
    "        if first in vertices :\n",
    "            first_component_index = index\n",
    "        elif second in vertices :\n",
    "            second_component_index = index\n",
    "    \n",
    "    new_components = [sorted(components[first_component_index] + components[second_component_index])]\n",
    "    for index, vertices in enumerate(components) :\n",
    "        if index not in [first_component_index, second_component_index] :\n",
    "            new_components.append(components[index])\n",
    "    return new_components\n",
    "\n",
    "def different_components(components, new_edge) :\n",
    "    first_component_index = None\n",
    "    second_component_index = None\n",
    "    _, first, second = new_edge\n",
    "    \n",
    "    for index, vertices in enumerate(components) :\n",
    "        if first in vertices :\n",
    "            first_component_index = index\n",
    "        if second in vertices :\n",
    "            second_component_index = index\n",
    "    if first_component_index == None or second_component_index == None :\n",
    "        print first_component_index, second_component_index, components, new_edge\n",
    "    if first_component_index != second_component_index :\n",
    "        print '+ : ', components[first_component_index], components[second_component_index], new_edge\n",
    "    else :\n",
    "        print '- : ', components[first_component_index], components[second_component_index], new_edge\n",
    "    return first_component_index != second_component_index\n",
    "            \n",
    "start_from = 0\n",
    "min_weight = 0\n",
    "\n",
    "def find_smallest(edges, components, start_from) :\n",
    "    edge_index = start_from\n",
    "    \n",
    "    while edge_index < len(edges) :\n",
    "        print edge_index\n",
    "        if different_components(components, edges[edge_index]) :\n",
    "            return edges[edge_index], edge_index + 1\n",
    "        \n",
    "        edge_index += 1\n",
    "    assert(False)\n",
    "\n",
    "for i in range(vertices_n - 1) :\n",
    "    new_edge, start_from = find_smallest(edges, components, start_from)\n",
    "    \n",
    "    weight, _, _ = new_edge\n",
    "    min_weight += weight\n",
    "    components = update_components(components, new_edge)\n",
    "    \n",
    "print min_weight, sum_weight - min_weight"
   ]
  },
  {
   "cell_type": "code",
   "execution_count": null,
   "metadata": {
    "collapsed": true
   },
   "outputs": [],
   "source": []
  }
 ],
 "metadata": {
  "kernelspec": {
   "display_name": "Python 2",
   "language": "python",
   "name": "python2"
  },
  "language_info": {
   "codemirror_mode": {
    "name": "ipython",
    "version": 2
   },
   "file_extension": ".py",
   "mimetype": "text/x-python",
   "name": "python",
   "nbconvert_exporter": "python",
   "pygments_lexer": "ipython2",
   "version": "2.7.9"
  }
 },
 "nbformat": 4,
 "nbformat_minor": 0
}
