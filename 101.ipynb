{
 "cells": [
  {
   "cell_type": "markdown",
   "metadata": {},
   "source": [
    "[Project Euler 101 Problem](https://projecteuler.net/problem=101)"
   ]
  },
  {
   "cell_type": "markdown",
   "metadata": {},
   "source": [
    "## Plan"
   ]
  },
  {
   "cell_type": "markdown",
   "metadata": {},
   "source": [
    "0. It is obvious that we would have no BOPs for $k \\ge 11$\n",
    "1. We would generate $u_i, i \\in 1..n$\n",
    "2. We would solve all equations and understand what are BOPs"
   ]
  },
  {
   "cell_type": "code",
   "execution_count": 82,
   "metadata": {
    "collapsed": true
   },
   "outputs": [],
   "source": [
    "def f(n) :\n",
    "    print [(-1) ** i * n ** i for i in range(1, 11)]\n",
    "    return sum([1] + [(-1) ** i * n ** i for i in range(1, 11)])"
   ]
  },
  {
   "cell_type": "code",
   "execution_count": 84,
   "metadata": {
    "collapsed": false
   },
   "outputs": [
    {
     "name": "stdout",
     "output_type": "stream",
     "text": [
      "[-1, 1, -1, 1, -1, 1, -1, 1, -1, 1]\n",
      "1\t1\n",
      "[-2, 4, -8, 16, -32, 64, -128, 256, -512, 1024]\n",
      "2\t683\n",
      "[-3, 9, -27, 81, -243, 729, -2187, 6561, -19683, 59049]\n",
      "3\t44287\n",
      "[-4, 16, -64, 256, -1024, 4096, -16384, 65536, -262144, 1048576]\n",
      "4\t838861\n",
      "[-5, 25, -125, 625, -3125, 15625, -78125, 390625, -1953125, 9765625]\n",
      "5\t8138021\n",
      "[-6, 36, -216, 1296, -7776, 46656, -279936, 1679616, -10077696, 60466176]\n",
      "6\t51828151\n",
      "[-7, 49, -343, 2401, -16807, 117649, -823543, 5764801, -40353607, 282475249]\n",
      "7\t247165843\n",
      "[-8, 64, -512, 4096, -32768, 262144, -2097152, 16777216, -134217728, 1073741824]\n",
      "8\t954437177\n",
      "[-9, 81, -729, 6561, -59049, 531441, -4782969, 43046721, -387420489, 3486784401]\n",
      "9\t3138105961\n",
      "[-10, 100, -1000, 10000, -100000, 1000000, -10000000, 100000000, -1000000000, 10000000000]\n",
      "10\t9090909091\n",
      "[-11, 121, -1331, 14641, -161051, 1771561, -19487171, 214358881, -2357947691, 25937424601]\n",
      "11\t23775972551\n"
     ]
    }
   ],
   "source": [
    "for n in range(1, 12) :\n",
    "    ff = f(n)\n",
    "    print '%d\\t%d' % (n, ff)"
   ]
  },
  {
   "cell_type": "code",
   "execution_count": 80,
   "metadata": {
    "collapsed": false
   },
   "outputs": [
    {
     "data": {
      "text/plain": [
       "(1,\n",
       " 683,\n",
       " 44287,\n",
       " 838861,\n",
       " 8138021,\n",
       " 51828151,\n",
       " 247165843,\n",
       " 954437177,\n",
       " 3138105961,\n",
       " 9090909091)"
      ]
     },
     "execution_count": 80,
     "metadata": {},
     "output_type": "execute_result"
    }
   ],
   "source": [
    "1, 683, 44287, 838861, 8138021, 51828151, 247165843, 954437177, 3138105961, 9090909091, 23775972551"
   ]
  },
  {
   "cell_type": "code",
   "execution_count": 90,
   "metadata": {
    "collapsed": false
   },
   "outputs": [
    {
     "name": "stdout",
     "output_type": "stream",
     "text": [
      "[-1, 1, -1, 1, -1, 1, -1, 1, -1, 1]\n"
     ]
    },
    {
     "data": {
      "text/plain": [
       "1"
      ]
     },
     "execution_count": 90,
     "metadata": {},
     "output_type": "execute_result"
    }
   ],
   "source": [
    "f1 = f(1)\n",
    "f1"
   ]
  },
  {
   "cell_type": "code",
   "execution_count": 91,
   "metadata": {
    "collapsed": false
   },
   "outputs": [
    {
     "data": {
      "text/plain": [
       "1365"
      ]
     },
     "execution_count": 91,
     "metadata": {},
     "output_type": "execute_result"
    }
   ],
   "source": [
    "x = 3\n",
    "f2 = -681 + 682 * x\n",
    "f2"
   ]
  },
  {
   "cell_type": "code",
   "execution_count": 92,
   "metadata": {
    "collapsed": false
   },
   "outputs": [
    {
     "data": {
      "text/plain": [
       "130813"
      ]
     },
     "execution_count": 92,
     "metadata": {},
     "output_type": "execute_result"
    }
   ],
   "source": [
    "x = 4\n",
    "f3 = 42241 - 63701 * x + 21461 * x ** 2\n",
    "f3"
   ]
  },
  {
   "cell_type": "code",
   "execution_count": 93,
   "metadata": {
    "collapsed": false
   },
   "outputs": [
    {
     "data": {
      "text/plain": [
       "3092453"
      ]
     },
     "execution_count": 93,
     "metadata": {},
     "output_type": "execute_result"
    }
   ],
   "source": [
    "x = 5\n",
    "f4 = -665807 + 1234387 * x - 686587 * x ** 2 + 118008 * x ** 3\n",
    "f4"
   ]
  },
  {
   "cell_type": "code",
   "execution_count": 94,
   "metadata": {
    "collapsed": false
   },
   "outputs": [
    {
     "data": {
      "text/plain": [
       "32740951"
      ]
     },
     "execution_count": 94,
     "metadata": {},
     "output_type": "execute_result"
    }
   ],
   "source": [
    "x = 6\n",
    "f5 = 4379761 - 9277213 * x + 6671533 * x ** 2 - 1984312 * x ** 3 + 210232 * x ** 4\n",
    "f5"
   ]
  },
  {
   "cell_type": "code",
   "execution_count": 95,
   "metadata": {
    "collapsed": false
   },
   "outputs": [
    {
     "data": {
      "text/plain": [
       "205015603"
      ]
     },
     "execution_count": 95,
     "metadata": {},
     "output_type": "execute_result"
    }
   ],
   "source": [
    "x = 7\n",
    "f6 = -14707439 + 34305227 * x - 29116967 * x ** 2 + 11535788 * x ** 3 - 2175668 * x ** 4 + 159060 * x ** 5\n",
    "f6"
   ]
  },
  {
   "cell_type": "code",
   "execution_count": 96,
   "metadata": {
    "collapsed": false
   },
   "outputs": [
    {
     "data": {
      "text/plain": [
       "898165577"
      ]
     },
     "execution_count": 96,
     "metadata": {},
     "output_type": "execute_result"
    }
   ],
   "source": [
    "x = 8\n",
    "f7 = 27442801 - 68962861 * x + 65955241 * x ** 2 - 31492582 * x ** 3 + 8069182 * x ** 4 - 1070322 * x ** 5 + 58542 * x ** 6\n",
    "f7 "
   ]
  },
  {
   "cell_type": "code",
   "execution_count": 97,
   "metadata": {
    "collapsed": false
   },
   "outputs": [
    {
     "data": {
      "text/plain": [
       "3093310441"
      ]
     },
     "execution_count": 97,
     "metadata": {},
     "output_type": "execute_result"
    }
   ],
   "source": [
    "x = 9\n",
    "f8 = -28828799 + 76941359 * x - 80663539 * x ** 2 + 44083303 * x ** 3 - 13814218 * x ** 4 + 2524808 * x ** 5 - 254078 * x ** 6 + 11165 * x ** 7\n",
    "f8 "
   ]
  },
  {
   "cell_type": "code",
   "execution_count": 98,
   "metadata": {
    "collapsed": false
   },
   "outputs": [
    {
     "data": {
      "text/plain": [
       "9071313571"
      ]
     },
     "execution_count": 98,
     "metadata": {},
     "output_type": "execute_result"
    }
   ],
   "source": [
    "x = 10\n",
    "f9 = 15966721 - 44806465 * x + 50572225 * x ** 2 - 30669221 * x ** 3 + 11126621 * x ** 4 - 2514688 * x ** 5 + 352528 * x ** 6 - 28831 * x ** 7 + 1111 * x ** 8\n",
    "f9"
   ]
  },
  {
   "cell_type": "code",
   "execution_count": 99,
   "metadata": {
    "collapsed": false
   },
   "outputs": [
    {
     "data": {
      "text/plain": [
       "23772343751"
      ]
     },
     "execution_count": 99,
     "metadata": {},
     "output_type": "execute_result"
    }
   ],
   "source": [
    "x = 11\n",
    "f10 = -3628799 + 10628639 * x - 12753575 * x ** 2 + 8409499 * x ** 3 - 3416929 * x ** 4 + 902054 * x ** 5 - 157772 * x ** 6 + 18149 * x ** 7 - 1319 * x ** 8 + 54 * x ** 9\n",
    "f10 "
   ]
  },
  {
   "cell_type": "code",
   "execution_count": 38,
   "metadata": {
    "collapsed": false
   },
   "outputs": [
    {
     "data": {
      "text/plain": [
       "37079206977"
      ]
     },
     "execution_count": 38,
     "metadata": {},
     "output_type": "execute_result"
    }
   ],
   "source": [
    "sum([f1, f2, f3, f4, f5, f6, f7, f8, f9, f10])"
   ]
  },
  {
   "cell_type": "code",
   "execution_count": 79,
   "metadata": {
    "collapsed": false
   },
   "outputs": [
    {
     "data": {
      "text/plain": [
       "37073860932"
      ]
     },
     "execution_count": 79,
     "metadata": {},
     "output_type": "execute_result"
    }
   ],
   "source": [
    "sum([f1, f2, f3, f4, f5, f6, f7, f8, f9, f10])"
   ]
  },
  {
   "cell_type": "code",
   "execution_count": 88,
   "metadata": {
    "collapsed": false
   },
   "outputs": [
    {
     "data": {
      "text/plain": [
       "37073860934"
      ]
     },
     "execution_count": 88,
     "metadata": {},
     "output_type": "execute_result"
    }
   ],
   "source": [
    "sum([f1, f2, f3, f4, f5, f6, f7, f8, f9, f10])"
   ]
  },
  {
   "cell_type": "code",
   "execution_count": 100,
   "metadata": {
    "collapsed": false
   },
   "outputs": [
    {
     "data": {
      "text/plain": [
       "37076114526"
      ]
     },
     "execution_count": 100,
     "metadata": {},
     "output_type": "execute_result"
    }
   ],
   "source": [
    "sum([f1, f2, f3, f4, f5, f6, f7, f8, f9, f10])"
   ]
  },
  {
   "cell_type": "code",
   "execution_count": null,
   "metadata": {
    "collapsed": true
   },
   "outputs": [],
   "source": []
  }
 ],
 "metadata": {
  "kernelspec": {
   "display_name": "Python 2",
   "language": "python",
   "name": "python2"
  },
  "language_info": {
   "codemirror_mode": {
    "name": "ipython",
    "version": 2
   },
   "file_extension": ".py",
   "mimetype": "text/x-python",
   "name": "python",
   "nbconvert_exporter": "python",
   "pygments_lexer": "ipython2",
   "version": "2.7.9"
  }
 },
 "nbformat": 4,
 "nbformat_minor": 0
}
