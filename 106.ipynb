{
 "cells": [
  {
   "cell_type": "markdown",
   "metadata": {},
   "source": [
    "[Project Euler 101 Problem](https://projecteuler.net/problem=101)"
   ]
  },
  {
   "cell_type": "markdown",
   "metadata": {},
   "source": [
    "## Plan"
   ]
  },
  {
   "cell_type": "markdown",
   "metadata": {},
   "source": [
    "0. We need to compare only pairs with equal count of numbers\n",
    "1. We need to compare only pairs where sorted elements can't be paired that element from the first set is always have less index then from the second. If we would write down sequence of \"1\" and \"2\" for first subset and second correspondingly. Then there should be position of this sequence where count of \"1\" is less then count of \"2\" (from beginning of the sequence)"
   ]
  },
  {
   "cell_type": "code",
   "execution_count": 20,
   "metadata": {
    "collapsed": false
   },
   "outputs": [
    {
     "name": "stdout",
     "output_type": "stream",
     "text": [
      "set length 2, variants 495\n",
      "set length 3, variants 4620\n",
      "set length 4, variants 10395\n",
      "set length 5, variants 5544\n",
      "set length 6, variants 330\n",
      "21384\n"
     ]
    }
   ],
   "source": [
    "import gmpy2\n",
    "\n",
    "n = 12\n",
    "\n",
    "calculated = {}\n",
    "\n",
    "def count_sequence(already_ones, already_twos, ones_left, twos_left) :\n",
    "    key = (already_ones, already_twos, ones_left, twos_left)\n",
    "    if ones_left < 0 or twos_left < 0 :\n",
    "        return 0\n",
    "\n",
    "\n",
    "    if key in calculated :\n",
    "        return calculated[key]\n",
    "    \n",
    "    count = 0\n",
    "    \n",
    "    if ones_left == 0 :\n",
    "        count = 0\n",
    "    elif already_ones < already_twos :\n",
    "        count = gmpy2.comb(ones_left + twos_left, ones_left)\n",
    "    else :\n",
    "        count = count_sequence(already_ones + 1, already_twos, ones_left - 1, twos_left)\n",
    "        count += count_sequence(already_ones, already_twos + 1, ones_left, twos_left - 1)\n",
    "\n",
    "    calculated[key] = count\n",
    "    return count\n",
    "    \n",
    "variants = []\n",
    "for set_length in range (2, n / 2 + 1) :\n",
    "    count = gmpy2.comb(n, set_length * 2) * count_sequence(1, 0, set_length - 1, set_length) \n",
    "    print \"set length %d, variants %d\" % (set_length, count)\n",
    "    variants.append(count)\n",
    "    \n",
    "print sum(variants)"
   ]
  },
  {
   "cell_type": "code",
   "execution_count": null,
   "metadata": {
    "collapsed": true
   },
   "outputs": [],
   "source": []
  }
 ],
 "metadata": {
  "kernelspec": {
   "display_name": "Python 2",
   "language": "python",
   "name": "python2"
  },
  "language_info": {
   "codemirror_mode": {
    "name": "ipython",
    "version": 2
   },
   "file_extension": ".py",
   "mimetype": "text/x-python",
   "name": "python",
   "nbconvert_exporter": "python",
   "pygments_lexer": "ipython2",
   "version": "2.7.9"
  }
 },
 "nbformat": 4,
 "nbformat_minor": 0
}
