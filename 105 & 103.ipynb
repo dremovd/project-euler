{
 "cells": [
  {
   "cell_type": "markdown",
   "metadata": {},
   "source": [
    "[Project Euler 105 Problem](https://projecteuler.net/problem=105)"
   ]
  },
  {
   "cell_type": "markdown",
   "metadata": {},
   "source": [
    "## Plan"
   ]
  },
  {
   "cell_type": "markdown",
   "metadata": {},
   "source": [
    "0. There are a lot of sets, so any all-sets-wise precomputations are the best\n",
    "1. There are a lot of checks for any given set, so sorting is good.\n",
    "2. Will check first second property, because it's trivial"
   ]
  },
  {
   "cell_type": "markdown",
   "metadata": {},
   "source": [
    "### Load data"
   ]
  },
  {
   "cell_type": "code",
   "execution_count": 49,
   "metadata": {
    "collapsed": false
   },
   "outputs": [
    {
     "name": "stdout",
     "output_type": "stream",
     "text": [
      "\n"
     ]
    }
   ],
   "source": [
    "import urllib2"
   ]
  },
  {
   "cell_type": "code",
   "execution_count": 50,
   "metadata": {
    "collapsed": false
   },
   "outputs": [],
   "source": [
    "data = urllib2.urlopen('https://projecteuler.net/project/resources/p105_sets.txt')\n",
    "data = data.readlines()"
   ]
  },
  {
   "cell_type": "code",
   "execution_count": 51,
   "metadata": {
    "collapsed": false
   },
   "outputs": [],
   "source": [
    "data = [sorted(map(int, line.strip().split(','))) for line in data]"
   ]
  },
  {
   "cell_type": "code",
   "execution_count": 52,
   "metadata": {
    "collapsed": false
   },
   "outputs": [
    {
     "data": {
      "text/plain": [
       "[[42, 65, 75, 81, 84, 86, 87, 88],\n",
       " [79, 119, 139, 150, 157, 158, 159, 161, 164]]"
      ]
     },
     "execution_count": 52,
     "metadata": {},
     "output_type": "execute_result"
    }
   ],
   "source": [
    "data[:2]"
   ]
  },
  {
   "cell_type": "code",
   "execution_count": 59,
   "metadata": {
    "collapsed": false
   },
   "outputs": [
    {
     "data": {
      "text/plain": [
       "531441"
      ]
     },
     "execution_count": 59,
     "metadata": {},
     "output_type": "execute_result"
    }
   ],
   "source": [
    "3 ** 12 # not so much"
   ]
  },
  {
   "cell_type": "code",
   "execution_count": 69,
   "metadata": {
    "collapsed": false
   },
   "outputs": [
    {
     "name": "stdout",
     "output_type": "stream",
     "text": [
      "Masks count for n=8: 231\n",
      "First\t[42, 65, 75, 81, 84, 86, 87, 88] (0, 1, 2, 2, 2, 0, 1, 1) 240\n",
      "Masks count for n=9: 735\n",
      "OK\t[79, 119, 139, 150, 157, 158, 159, 161, 164] 1286\n",
      "Masks count for n=11: 7029\n",
      "First\t[300, 465, 569, 584, 592, 599, 600, 601, 603, 629, 673] (0, 0, 1, 0, 1, 1, 2, 2, 2, 2, 1) 2433\n",
      "First\t[46, 65, 76, 83, 84, 85, 87, 90] (1, 2, 2, 2, 2, 1, 1, 1) 308\n",
      "First\t[85, 127, 162, 165, 167, 168, 169, 176, 190] (0, 1, 2, 2, 2, 2, 1, 1, 1) 662\n",
      "First\t[139, 224, 249, 275, 277, 278, 279, 289, 295] (0, 1, 2, 1, 2, 2, 2, 1, 1) 1083\n",
      "Masks count for n=10: 2289\n",
      "OK\t[180, 270, 324, 350, 354, 359, 360, 362, 370, 384] 3313\n",
      "First\t[298, 448, 557, 577, 588, 595, 596, 597, 599, 602, 667] (0, 1, 2, 2, 2, 2, 2, 1, 1, 1, 1) 2913\n",
      "First\t[88, 137, 168, 171, 173, 174, 175, 187, 199] (1, 2, 2, 2, 2, 0, 1, 1, 1) 649\n",
      "First\t[93, 144, 178, 182, 185, 186, 187, 196, 202] (0, 0, 0, 1, 1, 2, 2, 2, 1) 569\n",
      "First\t[81, 119, 152, 155, 157, 158, 159, 167, 176] (0, 0, 1, 1, 2, 0, 2, 2, 1) 483\n",
      "First\t[83, 124, 159, 163, 165, 166, 167, 174, 184] (0, 0, 1, 0, 0, 2, 2, 1, 0) 333\n",
      "Masks count for n=12: 21384\n",
      "First\t[605, 908, 1060, 1189, 1200, 1208, 1210, 1211, 1212, 1216, 1243, 1287] (0, 0, 1, 2, 2, 2, 2, 2, 1, 1, 1, 1) 6018\n",
      "First\t[153, 228, 282, 299, 302, 304, 305, 306, 313, 339] (0, 0, 1, 0, 1, 2, 0, 2, 2, 1) 923\n",
      "First\t[63, 80, 84, 93, 94, 96, 104, 112] (1, 0, 2, 2, 2, 1, 0, 1) 271\n",
      "OK\t[41, 61, 74, 81, 82, 83, 85, 88] 595\n",
      "Second\t[41, 67, 82, 83, 84, 86, 90, 97]\n",
      "First\t[151, 280, 291, 299, 301, 302, 303, 307, 333, 377] (0, 1, 0, 1, 0, 2, 2, 2, 1, 0) 912\n",
      "Masks count for n=7: 70\n",
      "OK\t[25, 40, 41, 42, 44, 48, 55] 295\n",
      "First\t[594, 890, 1038, 1151, 1173, 1184, 1186, 1187, 1188, 1195, 1203, 1255] (1, 2, 2, 2, 2, 2, 2, 1, 1, 1, 1, 1) 6622\n",
      "First\t[76, 99, 128, 132, 133, 135, 144, 154] (1, 2, 2, 1, 0, 2, 0, 1) 362\n",
      "OK\t[46, 77, 81, 83, 84, 85, 93, 108] 657\n",
      "First\t[391, 453, 529, 568, 596, 603, 604, 605, 607, 610, 624] (1, 2, 0, 2, 0, 0, 2, 0, 0, 1, 1) 1625\n",
      "First\t[83, 133, 160, 163, 165, 166, 167, 174, 189] (0, 1, 0, 2, 0, 2, 2, 1, 1) 496\n",
      "OK\t[173, 281, 292, 300, 302, 303, 304, 308, 346, 389] 2998\n",
      "First\t[593, 890, 1040, 1151, 1173, 1184, 1186, 1187, 1188, 1195, 1203, 1255] (0, 0, 1, 2, 2, 2, 2, 2, 1, 1, 1, 1) 5881\n",
      "Second\t[33, 46, 58, 60, 64, 65, 68]\n",
      "Second\t[43, 65, 86, 87, 88, 90, 93, 99]\n",
      "First\t[48, 78, 83, 84, 85, 87, 96, 107] (0, 1, 1, 0, 2, 2, 2, 1) 268\n",
      "First\t[594, 890, 1038, 1151, 1173, 1184, 1186, 1187, 1188, 1195, 1203, 1256] (0, 0, 0, 1, 1, 1, 2, 2, 2, 0, 2, 1) 4764\n",
      "First\t[160, 264, 280, 294, 296, 298, 299, 302, 324, 367] (0, 1, 0, 1, 0, 0, 2, 2, 2, 1) 925\n",
      "OK\t[342, 521, 646, 664, 672, 682, 686, 687, 692, 698, 760] 7050\n",
      "First\t[56, 86, 89, 95, 96, 97, 108, 120] (0, 1, 0, 1, 2, 2, 2, 1) 301\n",
      "OK\t[175, 262, 330, 337, 340, 343, 344, 356, 361, 382] 3230\n",
      "First\t[27, 37, 40, 41, 42, 44, 47] (0, 1, 2, 0, 0, 2, 1) 84\n",
      "First\t[78, 118, 139, 154, 155, 156, 158, 161, 166] (0, 0, 0, 1, 1, 2, 2, 2, 1) 475\n",
      "OK\t[79, 118, 139, 150, 157, 158, 159, 161, 164] 1285\n",
      "First\t[150, 262, 281, 292, 299, 300, 301, 303, 306, 371] (0, 1, 1, 1, 2, 2, 2, 0, 2, 1) 1206\n",
      "First\t[44, 67, 77, 84, 85, 86, 88, 91] (0, 1, 2, 2, 2, 0, 1, 1) 246\n",
      "First\t[44, 65, 76, 84, 85, 86, 88, 91] (0, 0, 1, 2, 2, 2, 1, 1) 255\n",
      "OK\t[76, 96, 127, 135, 136, 138, 141, 154] 1003\n",
      "First\t[166, 238, 292, 300, 302, 304, 305, 308, 324, 346] (1, 2, 0, 2, 2, 2, 0, 1, 1, 1) 1144\n",
      "Second\t[170, 257, 301, 321, 341, 342, 343, 345, 348, 354]\n",
      "OK\t[84, 131, 162, 166, 167, 168, 170, 178, 193] 1419\n",
      "OK\t[343, 518, 606, 652, 673, 683, 686, 687, 694, 701, 706] 6949\n",
      "OK\t[159, 263, 279, 293, 295, 296, 297, 301, 323, 367] 2873\n",
      "Second\t[593, 890, 1038, 1150, 1173, 1184, 1186, 1187, 1188, 1195, 1203, 1255]\n",
      "First\t[191, 288, 343, 364, 374, 382, 383, 385, 388, 402] (0, 1, 2, 2, 2, 2, 0, 1, 1, 1) 1463\n",
      "First\t[591, 888, 1036, 1115, 1167, 1175, 1182, 1183, 1184, 1187, 1197, 1219] (0, 0, 0, 0, 0, 1, 1, 2, 2, 2, 1, 0) 3554\n",
      "First\t[151, 238, 291, 299, 301, 302, 303, 307, 323, 345] (0, 1, 0, 0, 2, 2, 2, 0, 1, 1) 906\n",
      "First\t[69, 99, 131, 137, 138, 140, 143, 151] (0, 0, 1, 2, 1, 2, 2, 1) 420\n",
      "OK\t[29, 36, 40, 41, 42, 44, 59] 291\n",
      "Second\t[169, 271, 315, 329, 338, 343, 344, 348, 359, 375]\n",
      "First\t[34, 37, 39, 40, 41, 48, 50] (0, 0, 1, 0, 2, 2, 1) 89\n",
      "OK\t[297, 445, 558, 580, 591, 593, 594, 595, 602, 610, 662] 6127\n",
      "First\t[342, 541, 604, 651, 675, 681, 686, 687, 691, 699, 707] (0, 1, 2, 2, 0, 0, 1, 2, 2, 1, 1) 2633\n",
      "First\t[99, 144, 166, 180, 187, 188, 189, 194, 199] (1, 2, 2, 2, 1, 0, 2, 1, 1) 679\n",
      "First\t[176, 265, 321, 332, 335, 343, 344, 349, 356, 377] (1, 2, 2, 2, 2, 0, 1, 0, 1, 1) 1253\n",
      "First\t[593, 891, 1038, 1151, 1173, 1184, 1186, 1187, 1188, 1195, 1203, 1255] (0, 1, 2, 2, 2, 2, 2, 0, 1, 1, 1, 1) 5732\n",
      "First\t[62, 80, 83, 88, 89, 90, 100, 113] (1, 2, 1, 2, 0, 2, 0, 1) 258\n",
      "First\t[151, 238, 293, 300, 302, 303, 304, 308, 324, 346] (0, 0, 1, 2, 2, 2, 1, 1, 0, 0) 905\n",
      "First\t[35, 38, 40, 41, 42, 50, 59] (1, 1, 2, 0, 2, 2, 1) 132\n",
      "OK\t[174, 265, 310, 331, 338, 343, 344, 352, 355, 366] 3178\n",
      "First\t[60, 85, 89, 90, 91, 93, 106, 117] (1, 0, 2, 2, 2, 1, 0, 1) 270\n",
      "OK\t[92, 146, 166, 175, 183, 184, 186, 189, 202] 1523\n",
      "Second\t[44, 67, 76, 79, 80, 82, 88, 96]\n",
      "OK\t[31, 50, 54, 58, 61, 64, 66] 384\n",
      "Second\t[172, 266, 308, 333, 336, 343, 344, 350, 359, 364]\n",
      "OK\t[49, 82, 86, 87, 88, 90, 98, 115] 695\n",
      "OK\t[20, 40, 47, 48, 49, 51, 54] 309\n",
      "Second\t[79, 118, 152, 155, 157, 158, 159, 167, 177]\n",
      "OK\t[591, 887, 1035, 1115, 1167, 1175, 1182, 1183, 1184, 1186, 1197, 1219] 13121\n",
      "First\t[343, 518, 611, 667, 677, 682, 686, 687, 693, 704, 725] (0, 0, 0, 0, 1, 1, 0, 2, 2, 2, 1) 2084\n",
      "First\t[305, 452, 580, 591, 599, 603, 604, 605, 607, 634, 677] (1, 2, 2, 2, 2, 0, 1, 2, 1, 1, 1) 2827\n",
      "First\t[342, 517, 635, 658, 675, 682, 686, 687, 692, 695, 730] (0, 0, 0, 1, 0, 0, 1, 2, 2, 2, 1) 2074\n",
      "Second\t[296, 443, 553, 573, 584, 591, 592, 593, 595, 598, 662]\n",
      "First\t[93, 149, 177, 180, 185, 186, 187, 199, 210] (0, 0, 1, 0, 1, 2, 2, 2, 1) 572\n",
      "First\t[99, 136, 156, 178, 179, 180, 182, 185, 197] (0, 1, 2, 0, 0, 2, 2, 1, 1) 518\n",
      "OK\t[140, 218, 238, 271, 279, 280, 282, 285, 298] 2291\n",
      "First\t[593, 890, 1038, 1151, 1173, 1184, 1186, 1187, 1188, 1194, 1203, 1255] (0, 0, 0, 0, 1, 2, 2, 0, 1, 2, 1, 0) 3564\n",
      "OK\t[84, 130, 161, 165, 167, 168, 169, 177, 192] 1413\n",
      "Second\t[36, 39, 41, 42, 43, 50, 66]\n",
      "First\t[299, 448, 560, 579, 590, 597, 598, 599, 601, 604, 669] (0, 0, 1, 1, 1, 2, 2, 2, 0, 2, 1) 2398\n",
      "OK\t[90, 142, 174, 177, 179, 180, 184, 191, 206] 1523\n",
      "First\t[164, 269, 285, 295, 297, 298, 299, 306, 329, 374] (0, 0, 1, 2, 2, 2, 1, 1, 0, 0) 890\n",
      "First\t[86, 138, 162, 168, 169, 170, 172, 181, 195] (0, 0, 1, 1, 2, 2, 2, 1, 0) 511\n",
      "First\t[591, 889, 1033, 1115, 1167, 1175, 1182, 1183, 1184, 1186, 1197, 1219] (0, 1, 2, 2, 2, 2, 0, 1, 2, 1, 1, 1) 5674\n",
      "Second\t[340, 517, 644, 667, 679, 681, 686, 687, 691, 695, 770]\n",
      "OK\t[296, 444, 524, 576, 584, 591, 592, 593, 595, 606, 628] 6029\n",
      "Second\t[74, 94, 127, 135, 136, 138, 141, 154]\n",
      "First\t[89, 137, 168, 172, 177, 178, 179, 186, 198] (0, 0, 1, 0, 1, 2, 2, 2, 1) 543\n",
      "OK\t[149, 260, 280, 291, 298, 299, 300, 302, 305, 370] 2854\n",
      "First\t[342, 517, 648, 670, 678, 682, 686, 687, 692, 702, 768] (0, 1, 2, 2, 2, 2, 1, 2, 1, 1, 1) 3365\n",
      "First\t[153, 279, 290, 298, 302, 303, 304, 306, 333, 376] (1, 2, 2, 2, 2, 2, 1, 1, 1, 1) 1472\n",
      "OK\t[54, 75, 85, 95, 96, 97, 102, 109] 713\n",
      "First\t[78, 119, 146, 150, 151, 152, 154, 162, 173] (1, 2, 2, 2, 0, 2, 1, 1, 1) 567\n",
      "First\t[112, 132, 143, 150, 151, 152, 154, 157, 184] (0, 1, 1, 2, 0, 2, 0, 2, 1) 459\n",
      "First\t[25, 36, 40, 41, 42, 44, 54] (1, 0, 2, 2, 2, 1, 1) 123\n",
      "OK\t[34, 37, 39, 40, 41, 48, 59] 298\n",
      "First\t[303, 454, 584, 596, 603, 605, 606, 607, 611, 638, 681] (0, 0, 0, 1, 2, 2, 2, 1, 1, 0, 0) 1814\n",
      "Overall: 73702\n"
     ]
    }
   ],
   "source": [
    "def check_second_property(numbers) :\n",
    "    # We need to check if smallest 2 is more then largest 1 number, smallest 3 is more then largest 2, etc.\n",
    "    for small_numbers_subset_length in range(2, (len(numbers) + 1) / 2 + 1) :\n",
    "        if sum(numbers[:small_numbers_subset_length]) <= sum(numbers[-small_numbers_subset_length + 1:]) :\n",
    "            return False\n",
    "    return True\n",
    "\n",
    "calculated_masks = {}\n",
    "import itertools\n",
    "\n",
    "def get_compare_masks(n) :\n",
    "    if n in calculated_masks :\n",
    "        return calculated_masks[n]\n",
    "    \n",
    "    masks = []\n",
    "    for mask in itertools.product([0, 1, 2], repeat=n) :\n",
    "        skip = False\n",
    "        for v in mask :\n",
    "            if v == 1 :\n",
    "                break\n",
    "            if v == 2 :\n",
    "                skip = True\n",
    "                break\n",
    "        count_first = 0\n",
    "        count_second = 0\n",
    "        interesting = False\n",
    "        \n",
    "        for v in mask :\n",
    "            count_first += v == 1\n",
    "            count_second += v == 2\n",
    "            \n",
    "            if not interesting and count_first < count_second :\n",
    "                interesting = True\n",
    "\n",
    "        if not skip and count_first == count_second and count_first >= 2 and interesting :\n",
    "            masks.append(mask)\n",
    "                \n",
    "    print \"Masks count for n=%d: %d\" % (n, len(masks))\n",
    "    calculated_masks[n] = masks\n",
    "    return masks\n",
    "\n",
    "def check_first_property(numbers, debug = False) :\n",
    "    masks = get_compare_masks(len(numbers))\n",
    "    for mask in masks :\n",
    "        if (sum([numbers[i] * (subset_n == 1) for i, subset_n in enumerate(mask)]) ==\n",
    "            sum([numbers[i] * (subset_n == 2) for i, subset_n in enumerate(mask)])) :\n",
    "            if debug :\n",
    "                print \"First\\t\", numbers, mask, sum([numbers[i] * (subset_n == 1) for i, subset_n in enumerate(mask)])\n",
    "            return False\n",
    "    return True\n",
    "\n",
    "sequences_sum = 0\n",
    "for numbers in data :\n",
    "    if len(set(numbers)) != len(numbers) :\n",
    "        print \"Not unique\\t\", numbers\n",
    "        continue\n",
    "    if not check_second_property(numbers) :\n",
    "        print \"Second\\t\", numbers\n",
    "        continue\n",
    "    if not check_first_property(numbers, debug = True) :\n",
    "        continue \n",
    "        \n",
    "    print \"OK\\t\", numbers, sum(numbers)\n",
    "    sequences_sum += sum(numbers)\n",
    "    \n",
    "print 'Overall:', sequences_sum"
   ]
  },
  {
   "cell_type": "markdown",
   "metadata": {},
   "source": [
    "## Plan"
   ]
  },
  {
   "cell_type": "markdown",
   "metadata": {},
   "source": [
    "1. We would try to find number sequences starting with zero and then would add D to all numbers minimum for a second property to be true.\n",
    "2. For numbers starting with zero we would brute-force sorted sequences within some \"enough\" range."
   ]
  },
  {
   "cell_type": "code",
   "execution_count": 72,
   "metadata": {
    "collapsed": false
   },
   "outputs": [
    {
     "name": "stdout",
     "output_type": "stream",
     "text": [
      "317 (0, 1, 2, 4, 7, 13, 24) 38\n",
      "313 (0, 2, 4, 7, 8, 14, 26) 36\n",
      "291 (0, 3, 5, 6, 7, 14, 25) 33\n",
      "289 (0, 6, 9, 10, 12, 14, 28) 30\n",
      "283 (0, 6, 9, 11, 12, 13, 29) 29\n",
      "277 (0, 6, 10, 11, 12, 14, 28) 28\n",
      "271 (0, 11, 17, 20, 22, 23, 24) 22\n",
      "255 (0, 11, 18, 19, 20, 22, 25) 20\n"
     ]
    }
   ],
   "source": [
    "v1 = 0\n",
    "max_v = 30\n",
    "\n",
    "def min_sum_assure_second_property(numbers) :\n",
    "    # We need to check if smallest 2 is more then largest 1 number, smallest 3 is more then largest 2, etc.\n",
    "    differences = []\n",
    "    for small_numbers_subset_length in range(2, (len(numbers) + 1) / 2 + 1) :\n",
    "        differences.append(\n",
    "            -sum(numbers[:small_numbers_subset_length]) + sum(numbers[-small_numbers_subset_length + 1:]) + 1\n",
    "        )\n",
    "    return sum(numbers) + max(differences) * len(numbers), max(differences)\n",
    "\n",
    "current_min = 10000000\n",
    "\n",
    "for v2 in range(v1 + 1, max_v - 5) :\n",
    "    for v3 in range(v2 + 1, max_v - 4) :\n",
    "        for v4 in range(v3 + 1, max_v - 3) :\n",
    "            if not check_first_property((v1, v2, v3, v4)) :\n",
    "                continue\n",
    "            for v5 in range(v4 + 1, max_v - 2) :\n",
    "                if not check_first_property((v1, v2, v3, v4, v5)) :\n",
    "                    continue\n",
    "                for v6 in range(v5 + 1, max_v - 1) :\n",
    "                    if not check_first_property((v1, v2, v3, v4, v5, v6)) :\n",
    "                        continue\n",
    "                    for v7 in range(v6 + 1, max_v) :\n",
    "                        numbers = (v1, v2, v3, v4, v5, v6, v7)\n",
    "                        if check_first_property(numbers) :\n",
    "                            new_min, d = min_sum_assure_second_property(numbers)\n",
    "                            if new_min < current_min :\n",
    "                                current_min = new_min\n",
    "                                print new_min, numbers, d\n",
    "                                "
   ]
  },
  {
   "cell_type": "code",
   "execution_count": 74,
   "metadata": {
    "collapsed": false
   },
   "outputs": [
    {
     "name": "stdout",
     "output_type": "stream",
     "text": [
      "20 31 38 39 40 42 45\n"
     ]
    }
   ],
   "source": [
    "for v in (0, 11, 18, 19, 20, 22, 25) :\n",
    "    print v + 20, "
   ]
  },
  {
   "cell_type": "code",
   "execution_count": null,
   "metadata": {
    "collapsed": true
   },
   "outputs": [],
   "source": []
  }
 ],
 "metadata": {
  "kernelspec": {
   "display_name": "Python 2",
   "language": "python",
   "name": "python2"
  },
  "language_info": {
   "codemirror_mode": {
    "name": "ipython",
    "version": 2
   },
   "file_extension": ".py",
   "mimetype": "text/x-python",
   "name": "python",
   "nbconvert_exporter": "python",
   "pygments_lexer": "ipython2",
   "version": "2.7.9"
  }
 },
 "nbformat": 4,
 "nbformat_minor": 0
}
