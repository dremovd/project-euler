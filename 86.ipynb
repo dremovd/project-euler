{
 "cells": [
  {
   "cell_type": "markdown",
   "metadata": {},
   "source": [
    "[Project Euler 86 Problem](https://projecteuler.net/problem=86)"
   ]
  },
  {
   "cell_type": "markdown",
   "metadata": {},
   "source": [
    "## Plan"
   ]
  },
  {
   "cell_type": "markdown",
   "metadata": {},
   "source": [
    "1. Shortest path is $\\sqrt{a^2 + (b+c)^2}$\n",
    "2. Find all Pythagorian triples with values under given $2 \\cdot M_{max}, (M_{max} = 3000)) $\n",
    "3. For any given $M < M_{max}$ can go through all over triangles and calculate count of cuboids"
   ]
  },
  {
   "cell_type": "code",
   "execution_count": 59,
   "metadata": {
    "collapsed": true
   },
   "outputs": [],
   "source": [
    "M_max = 3000"
   ]
  },
  {
   "cell_type": "code",
   "execution_count": 60,
   "metadata": {
    "collapsed": true
   },
   "outputs": [],
   "source": [
    "squares = {}\n",
    "\n",
    "for i in range(1, 2 * M_max) :\n",
    "    squares[i * i] = i"
   ]
  },
  {
   "cell_type": "code",
   "execution_count": 61,
   "metadata": {
    "collapsed": false
   },
   "outputs": [
    {
     "data": {
      "text/plain": [
       "3"
      ]
     },
     "execution_count": 61,
     "metadata": {},
     "output_type": "execute_result"
    }
   ],
   "source": [
    "squares[9]"
   ]
  },
  {
   "cell_type": "markdown",
   "metadata": {},
   "source": [
    "## Populate Pythogirian triplets"
   ]
  },
  {
   "cell_type": "code",
   "execution_count": 62,
   "metadata": {
    "collapsed": false
   },
   "outputs": [
    {
     "data": {
      "text/plain": [
       "[(3, 4, 5),\n",
       " (5, 12, 13),\n",
       " (6, 8, 10),\n",
       " (7, 24, 25),\n",
       " (8, 15, 17),\n",
       " (9, 12, 15),\n",
       " (9, 40, 41),\n",
       " (10, 24, 26),\n",
       " (11, 60, 61),\n",
       " (12, 16, 20)]"
      ]
     },
     "execution_count": 62,
     "metadata": {},
     "output_type": "execute_result"
    }
   ],
   "source": [
    "pythagorian = []\n",
    "\n",
    "for a in squares :\n",
    "    for b in squares :\n",
    "        if a + b in squares and a < b :\n",
    "            pythagorian.append((squares[a], squares[b], squares[a + b]))\n",
    "\n",
    "pythagorian = sorted(pythagorian)\n",
    "pythagorian[:10]"
   ]
  },
  {
   "cell_type": "markdown",
   "metadata": {},
   "source": [
    "## Calculation of cuboids count"
   ]
  },
  {
   "cell_type": "code",
   "execution_count": 63,
   "metadata": {
    "collapsed": false
   },
   "outputs": [
    {
     "data": {
      "text/plain": [
       "14"
      ]
     },
     "execution_count": 63,
     "metadata": {},
     "output_type": "execute_result"
    }
   ],
   "source": [
    "def count_cuboids_unique_ordered(M, a, b_c_sum) :\n",
    "    if a <= M :\n",
    "        c_min = max([b_c_sum - M, 1, b_c_sum - a])\n",
    "        c_max = min([M, b_c_sum / 2, a])\n",
    "        if c_max >= c_min :\n",
    "            # print (a, b_c_sum), '->', (c_min, c_max)\n",
    "            return c_max - c_min + 1\n",
    "            \n",
    "    return 0\n",
    "\n",
    "def count_cuboids_with_integer_shortest_path(M) :\n",
    "    assert(M <= M_max)\n",
    "    count = 0\n",
    "    for x, y, _ in pythagorian :\n",
    "        a = x\n",
    "        b_c_sum = y\n",
    "        count += count_cuboids_unique_ordered(M, a, b_c_sum)\n",
    "                \n",
    "        a = y\n",
    "        b_c_sum = x\n",
    "        count += count_cuboids_unique_ordered(M, a, b_c_sum)\n",
    "        \n",
    "    return count\n",
    "\n",
    "count_cuboids_with_integer_shortest_path(10)"
   ]
  },
  {
   "cell_type": "markdown",
   "metadata": {},
   "source": [
    "## Find first M where cuboids count is at least 1000000"
   ]
  },
  {
   "cell_type": "code",
   "execution_count": 72,
   "metadata": {
    "collapsed": false
   },
   "outputs": [
    {
     "name": "stdout",
     "output_type": "stream",
     "text": [
      "99 1975\n",
      "100 2060\n",
      "1800 986995\n",
      "1801 986995\n",
      "1802 987538\n",
      "1803 988140\n",
      "1804 989659\n",
      "1805 989869\n",
      "1806 992036\n",
      "1807 992036\n",
      "1808 992828\n",
      "1809 994302\n",
      "1810 994302\n",
      "1811 994302\n",
      "1812 995963\n",
      "1813 996221\n",
      "1814 996221\n",
      "1815 998665\n",
      "1816 999460\n",
      "1817 999850\n",
      "1818 1000457\n",
      "1819 1000457\n",
      "1820 1006727\n",
      "1821 1007335\n",
      "1822 1007335\n",
      "1823 1007335\n",
      "1824 1013572\n",
      "1825 1014222\n",
      "1826 1014222\n",
      "1827 1017560\n",
      "1828 1018245\n",
      "1829 1018875\n",
      "1830 1020057\n",
      "1831 1020057\n",
      "1832 1020859\n",
      "1833 1021947\n",
      "1834 1021947\n",
      "1835 1021947\n",
      "1836 1026404\n",
      "1837 1026404\n",
      "1838 1026404\n",
      "1839 1027018\n",
      "1840 1031554\n",
      "1841 1031554\n",
      "1842 1032169\n",
      "1843 1032169\n",
      "1844 1032860\n",
      "1845 1035382\n",
      "1846 1035382\n",
      "1847 1035382\n",
      "1848 1046353\n",
      "1849 1046353\n",
      "1850 1046725\n",
      "1851 1047343\n",
      "1852 1048037\n",
      "1853 1048037\n",
      "1854 1048656\n",
      "1855 1049370\n",
      "1856 1051162\n",
      "1857 1051782\n",
      "1858 1051782\n",
      "1859 1051938\n",
      "1860 1057029\n",
      "1861 1057029\n",
      "1862 1058643\n",
      "1863 1060627\n",
      "1864 1061443\n",
      "1865 1061443\n",
      "1866 1062066\n",
      "1867 1062066\n",
      "1868 1062766\n",
      "1869 1064280\n",
      "1870 1066438\n",
      "1871 1066438\n",
      "1872 1074843\n",
      "1873 1074843\n",
      "1874 1074843\n",
      "1875 1075969\n",
      "1876 1077041\n",
      "1877 1077041\n",
      "1878 1077668\n",
      "1879 1077668\n",
      "1880 1080500\n",
      "1881 1083460\n",
      "1882 1083460\n",
      "1883 1083460\n",
      "1884 1085187\n",
      "1885 1087715\n",
      "1886 1088291\n",
      "1887 1090039\n",
      "1888 1091142\n",
      "1889 1091142\n",
      "1890 1095754\n",
      "1891 1096444\n",
      "1892 1098000\n",
      "1893 1098632\n",
      "1894 1098632\n",
      "1895 1098632\n",
      "1896 1100766\n",
      "1897 1100766\n",
      "1898 1100766\n",
      "1899 1101400\n"
     ]
    }
   ],
   "source": [
    "for M in range(99, 101) + range(1800, 1900) :\n",
    "    print M, count_cuboids_with_integer_shortest_path(M)"
   ]
  },
  {
   "cell_type": "code",
   "execution_count": null,
   "metadata": {
    "collapsed": true
   },
   "outputs": [],
   "source": []
  }
 ],
 "metadata": {
  "kernelspec": {
   "display_name": "Python 2",
   "language": "python",
   "name": "python2"
  },
  "language_info": {
   "codemirror_mode": {
    "name": "ipython",
    "version": 2
   },
   "file_extension": ".py",
   "mimetype": "text/x-python",
   "name": "python",
   "nbconvert_exporter": "python",
   "pygments_lexer": "ipython2",
   "version": "2.7.9"
  }
 },
 "nbformat": 4,
 "nbformat_minor": 0
}
